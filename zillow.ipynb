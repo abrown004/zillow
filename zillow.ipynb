{
  "cells": [
    {
      "cell_type": "markdown",
      "metadata": {
        "deletable": true,
        "editable": true
      },
      "source": [
        "# Creating a Classifier for the Zillow Data\nGiven a set of features that include housing-related data and a matching set of training data consisting of standard error of the Zestimate, predict the log of the standard error.\n"
      ]
    },
    {
      "cell_type": "code",
      "execution_count": 1,
      "metadata": {
        "collapsed": false,
        "deletable": true,
        "editable": true
      },
      "outputs": [],
      "source": [
        "# This Python 3 environment comes with many helpful analytics libraries installed\n",
        "# It is defined by the kaggle/python docker image: https://github.com/kaggle/docker-python\n",
        "# For example, here's several helpful packages to load in \n",
        "\n",
        "import numpy as np # linear algebra\n",
        "import pandas as pd # data processing, CSV file I/O (e.g. pd.read_csv)\n",
        "import matplotlib.pyplot as plt\n",
        "\n",
        "# Input data files are available in the \"../input/\" directory.\n",
        "# For example, running this (by clicking run or pressing Shift+Enter) will list the files in the input directory\n",
        "\n",
        "from subprocess import check_output\n",
        "print(check_output([\"ls\", \"../input\"]).decode(\"utf8\"))\n",
        "\n",
        "# Any results you write to the current directory are saved as output.\n"
      ]
    },
    {
      "cell_type": "code",
      "execution_count": 1,
      "metadata": {
        "collapsed": false,
        "deletable": true,
        "editable": true
      },
      "outputs": [],
      "source": [
        "# Import Data\n",
        "features = pd.read_csv(\"../input/properties_2016.csv\", nrows=100000)\n",
        "labels = pd.read_csv(\"../input/train_2016_v2.csv\", nrows=100000, parse_dates=True)\n",
        "labels.head()\n",
        "\n",
        "# Drop properties where all features are NaNs\n",
        "features.dropna(axis = 'index', how = 'all')\n",
        "\n",
        "# Join Data\n",
        "df = pd.DataFrame.merge(features,labels,on=\"parcelid\")\n",
        "df.head()\n",
        "\n",
        "# Drop features where all properties are NaNs\n",
        "df.dropna(axis = 'columns', how = 'all')\n"
      ]
    },
    {
      "cell_type": "markdown",
      "metadata": {
        "deletable": true,
        "editable": true
      },
      "source": [
        "## Convert Months to Dummy Variables\nConvert the discrete variable transaction data months to dummy variables to use as a feature and assist in the output of data by months.\n"
      ]
    },
    {
      "cell_type": "code",
      "execution_count": 1,
      "metadata": {
        "collapsed": false,
        "deletable": true,
        "editable": true
      },
      "outputs": [],
      "source": [
        "# Add discrete variables\n",
        "from datetime import date\n",
        "\n",
        "# Convert date to month\n",
        "df[\"transactiondate\"] = pd.to_datetime(df[\"transactiondate\"], format = '%Y-%m-%d')\n",
        "df[\"month\"] = df[\"transactiondate\"].dt.month\n",
        "\n",
        "# Convert months to dummy variables\n",
        "month_dummy_variables = pd.get_dummies(data=df[\"month\"],prefix=\"month\")\n",
        "df = pd.DataFrame.merge(df,month_dummy_variables,left_index=True,right_index=True)\n",
        "df.head()\n"
      ]
    },
    {
      "cell_type": "code",
      "execution_count": 1,
      "metadata": {
        "collapsed": false,
        "deletable": true,
        "editable": true
      },
      "outputs": [],
      "source": [
        "# Convert to Numpy Array\n",
        "features = df.as_matrix(columns=[\"basementsqft\",\n",
        "                                 \"bathroomcnt\",\"bedroomcnt\",\n",
        "                                 \"lotsizesquarefeet\",\n",
        "                                 \"calculatedfinishedsquarefeet\",\n",
        "                                 \"fireplacecnt\",\n",
        "                                 \"garagecarcnt\",\n",
        "                                 \"garagetotalsqft\",\n",
        "                                 \"poolcnt\",\n",
        "                                 \"poolsizesum\",\n",
        "                                 \"unitcnt\",\n",
        "                                 \"numberofstories\",\n",
        "                                 \"structuretaxvaluedollarcnt\",\n",
        "                                 \"landtaxvaluedollarcnt\",\n",
        "                                 \"taxamount\",\n",
        "                                 \"latitude\",\n",
        "                                 \"longitude\",\n",
        "                                 \"month\",\n",
        "                                 ])\n",
        "features = np.nan_to_num(features)\n",
        "labels = df.as_matrix(columns=[\"logerror\"])\n"
      ]
    },
    {
      "cell_type": "code",
      "execution_count": 1,
      "metadata": {
        "collapsed": false,
        "deletable": true,
        "editable": true
      },
      "outputs": [],
      "source": [
        "# Split data into training and testing set for 10/2016, 11/2016, and 12/2016\n",
        "from sklearn.model_selection import train_test_split\n",
        "\n",
        "# 11/2016\n",
        "#features_102016 = []\n",
        "#labels_102016 = []\n",
        "#count = 0\n",
        "#for row in features:\n",
        "#    if row[17] == 10:\n",
        "#        features_102016.append(row)\n",
        "#        labels_102016.append(labels[count])\n",
        "#    count += 1\n",
        "#features_102016_train, features_102016_test, labels_102016_train, labels_102016_test = \\\n",
        "#    train_test_split(features_102016, labels_102016, test_size=0.30, random_state=42)\n",
        "\n",
        "features_train, features_test, labels_train, labels_test = \\\n",
        "    train_test_split(features, labels, test_size=0.30, random_state=42)\n",
        "\n",
        "print(len(features_train))\n",
        "print(len(labels_train))\n"
      ]
    },
    {
      "cell_type": "code",
      "execution_count": 1,
      "metadata": {
        "collapsed": false,
        "deletable": true,
        "editable": true
      },
      "outputs": [],
      "source": [
        "# First look\n",
        "from sklearn.linear_model import LinearRegression\n",
        "from sklearn.metrics import mean_squared_error\n",
        "\n",
        "regr = LinearRegression()\n",
        "regr = regr.fit(features_train,labels_train)\n"
      ]
    },
    {
      "cell_type": "code",
      "execution_count": 1,
      "metadata": {
        "collapsed": false,
        "deletable": true,
        "editable": true
      },
      "outputs": [],
      "source": [
        "# First look\n",
        "from sklearn.linear_model import LinearRegression\n",
        "from sklearn.metrics import mean_squared_error\n",
        "\n",
        "regr = LinearRegression()\n",
        "regr = regr.fit(features_train,labels_train)\n"
      ]
    },
    {
      "cell_type": "markdown",
      "metadata": {
        "deletable": true,
        "editable": true
      },
      "source": [
        "## Archived Code\n"
      ]
    },
    {
      "cell_type": "code",
      "execution_count": 1,
      "metadata": {
        "collapsed": false,
        "deletable": true,
        "editable": true
      },
      "outputs": [],
      "source": [
        "# Evaluation Metrics\n",
        "mse = mean_squared_error(regr.predict(features_test), labels_test)\n",
        "print(\"model ceofficients: \", regr.coef_)\n",
        "print(\"mean square error: \",mse)\n",
        "print(\"Variance score: \",regr.score(features_test,labels_test))\n",
        "sd = np.subtract(regr.predict(features_test),labels_test)\n",
        "plt.hist(sd,bins=100)\n",
        "\n",
        "# Plot outputs\n",
        "#plt.scatter(features_test, labels_test,  color='black')\n",
        "#plt.plot(features_test, regr.predict(features_test), color='blue',\n",
        "#         linewidth=3)\n",
        "\n",
        "plt.show()\n"
      ]
    },
    {
      "cell_type": "code",
      "execution_count": 1,
      "metadata": {
        "collapsed": false,
        "deletable": true,
        "editable": true
      },
      "outputs": [],
      "source": [
        "# Create pipeline for analysis\n",
        "from sklearn.pipeline import make_pipeline\n",
        "from sklearn.preprocessing import PolynomialFeatures\n",
        "#from sklearn.feature_selection import SelectKBest\n",
        "#from sklearn.decomposition import PCA\n",
        "from sklearn.metrics import mean_squared_error\n",
        "\n",
        "from sklearn.linear_model import (LinearRegression, TheilSenRegressor, \n",
        "                                  RANSACRegressor, HuberRegressor)\n",
        "from sklearn.model_selection import GridSearchCV\n",
        "from sklearn.model_selection import StratifiedShuffleSplit\n",
        "\n",
        "estimators = [('OLS', LinearRegression()),\n",
        "              ('Theil-Sen', TheilSenRegressor(random_state=42)),\n",
        "              ('RANSAC', RANSACRegressor(random_state=42)),\n",
        "              ('HuberRegressor', HuberRegressor())]\n",
        "\n",
        "pipe = make_pipeline(PolynomialFeatures(3), LinearRegression())\n",
        "#print(pipe.steps[1])\n",
        "\n",
        "params = dict(polynomialfeatures__degree = range(3, 4))\n",
        "\n",
        "cv = StratifiedShuffleSplit(n_splits=10, test_size = 0.1, random_state = 42)\n",
        "gs = GridSearchCV(pipe, param_grid=params, cv=cv, scoring='f1')\n"
      ]
    }
  ],
  "metadata": {
    "kernelspec": {
      "display_name": "Python 3",
      "language": "python",
      "name": "python3"
    },
    "language_info": {
      "codemirror_mode": {
        "name": "ipython",
        "version": 3
      },
      "file_extension": ".py",
      "mimetype": "text/x-python",
      "name": "python",
      "nbconvert_exporter": "python",
      "pygments_lexer": "ipython3",
      "version": "<span>Python 3.6.1</span><span class=\"fa fa-info-circle notebook-info-modal__info-icon\"></span>"
    }
  },
  "nbformat": 4,
  "nbformat_minor": 2
}