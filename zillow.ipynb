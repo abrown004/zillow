{
  "cells": [
    {
      "cell_type": "markdown",
      "metadata": {
        "deletable": true,
        "editable": true
      },
      "source": [
        "A brief setup to select the best features for estimating the log error.\n"
      ]
    },
    {
      "cell_type": "code",
      "execution_count": 1,
      "metadata": {
        "collapsed": false,
        "deletable": true,
        "editable": true
      },
      "outputs": [],
      "source": [
        "# This Python 3 environment comes with many helpful analytics libraries installed\n",
        "# It is defined by the kaggle/python docker image: https://github.com/kaggle/docker-python\n",
        "# For example, here's several helpful packages to load in \n",
        "\n",
        "import numpy as np # linear algebra\n",
        "import pandas as pd # data processing, CSV file I/O (e.g. pd.read_csv)\n",
        "\n",
        "# Input data files are available in the \"../input/\" directory.\n",
        "# For example, running this (by clicking run or pressing Shift+Enter) will list the files in the input directory\n",
        "\n",
        "from subprocess import check_output\n",
        "print(check_output([\"ls\", \"../input\"]).decode(\"utf8\"))\n",
        "\n",
        "# Any results you write to the current directory are saved as output.\n"
      ]
    },
    {
      "cell_type": "code",
      "execution_count": 1,
      "metadata": {
        "collapsed": false,
        "deletable": true,
        "editable": true
      },
      "outputs": [],
      "source": [
        "# Import Data\n",
        "features = pd.read_csv(\"../input/properties_2016.csv\", nrows=100000)\n",
        "labels = pd.read_csv(\"../input/train_2016.csv\", nrows=100000)\n",
        "train.head()\n",
        "\n",
        "# Join Data\n",
        "df = pd.DataFrame.merge(features,labels,on=\"parcelid\")\n",
        "df.head()\n"
      ]
    },
    {
      "cell_type": "code",
      "execution_count": 1,
      "metadata": {
        "collapsed": false,
        "deletable": true,
        "editable": true
      },
      "outputs": [],
      "source": [
        "# Import Data\n",
        "features = pd.read_csv(\"../input/properties_2016.csv\", nrows=100000)\n",
        "labels = pd.read_csv(\"../input/train_2016.csv\", nrows=100000)\n",
        "train.head()\n",
        "\n",
        "# Join Data\n",
        "df = pd.DataFrame.merge(features,labels,on=\"parcelid\")\n",
        "df.head()\n"
      ]
    },
    {
      "cell_type": "code",
      "execution_count": 1,
      "metadata": {
        "collapsed": false,
        "deletable": true,
        "editable": true
      },
      "outputs": [],
      "source": [
        "# Find K  best features\n",
        "from sklearn.feature_selection import SelectKBest\n",
        "kbest = SelectKBest(k=1)\n",
        "kbest = kbest.fit_transform(features,labels)\n"
      ]
    },
    {
      "cell_type": "code",
      "execution_count": 1,
      "metadata": {
        "collapsed": false,
        "deletable": true,
        "editable": true
      },
      "outputs": [],
      "source": [
        "print(kbest)\n"
      ]
    }
  ],
  "metadata": {
    "kernelspec": {
      "display_name": "Python 3",
      "language": "python",
      "name": "python3"
    },
    "language_info": {
      "codemirror_mode": {
        "name": "ipython",
        "version": 3
      },
      "file_extension": ".py",
      "mimetype": "text/x-python",
      "name": "python",
      "nbconvert_exporter": "python",
      "pygments_lexer": "ipython3",
      "version": "3.6.0"
    }
  },
  "nbformat": 4,
  "nbformat_minor": 2
}